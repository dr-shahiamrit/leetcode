{
 "cells": [
  {
   "cell_type": "markdown",
   "metadata": {},
   "source": [
    "```\n",
    "Day 3 Goals\n",
    "Welcome to Day 3 of the DSA Coding Challenge!\n",
    "\n",
    "Today's Goals (Hash Tables):\n",
    "\n",
    "- Hash Tables Data Structure Crash Course\n",
    "\n",
    "Question 1: Two Sum - You are given an array of Integers and another integer targetValue. Write a function that will take these inputs and return the indices of the 2 integers in the array that add up targetValue.\n",
    "\n",
    "Question 2: Isomorphic Strings - Given two strings s and t, determine if they are isomorphic. Two strings s and t are isomorphic if the characters in s can be replaced to get t. All occurrences of a character must be replaced with another character while preserving the order of characters. No two characters may map to the same character, but a character may map to itself. s and t consist of any valid ascii character.\n",
    "\n",
    "All the best!\n",
    "\n",
    "```"
   ]
  },
  {
   "cell_type": "markdown",
   "metadata": {},
   "source": [
    "```\n",
    "Data Structures : Hash Tables \n",
    "1. What are Hash Tables\n",
    "2. Hashing function\n",
    "3. Collision Handling in Hash tables\n",
    "4. Big O of operations on a Hash table\n",
    "\n",
    "===========\n",
    "Hash Tables\n",
    "===========\n",
    "Build in almost every programming language.\n",
    "JS : objects\n",
    "Python : Dictionaries \n",
    "Has Tables are key, value pair's\n",
    "ht = {\n",
    "    key1 -> value1, \n",
    "    key2 -> value2\n",
    "}\n",
    "\n",
    "-> represent value can get from the key\n",
    "\n",
    "let's say we have 3 data\n",
    "John 11\n",
    "Aby 33\n",
    "Sara 44\n",
    "\n",
    "One way store in array = [11, 33, 44]\n",
    "to retrive array[0] ...\n",
    "array are ordered\n",
    "\n",
    "In these case much batter to use hash tables\n",
    "hash table are not ordered\n",
    "ht = {'Jhhn': 11, 'Aby': 33, 'Sara': 44}\n",
    "ht['Aby']\n",
    "\n",
    "2. Hashing function\n",
    "-> Hash tables are build on top of arrays \n",
    "John 11\n",
    "Aby 33\n",
    "Sara 44\n",
    "keys values \n",
    "\n",
    "----------------------------------------\n",
    "Pass key -> Hashing function -> Integer |\n",
    "----------------------------------------\n",
    "\n",
    "  0   1   2   3   4    5\n",
    "---------------------------\n",
    "|33|   | 11 |   |    |44|\n",
    "---------------------------\n",
    "\n",
    "John -------> 2\n",
    "Aby ---------> 0\n",
    "Sara --------> 5\n",
    "\n",
    "\n",
    "Good Hash Function\n",
    "1) Same 1/p always gives same o/p\n",
    "2) Fast (constant time)\n",
    "3) Minimize Collisions\n",
    "\n",
    "\n",
    "====================================\n",
    "3. Collision Handling in Hash tables\n",
    "====================================\n",
    "John 11\n",
    "Aby 33\n",
    "Sara 44\n",
    "keys values \n",
    "\n",
    "  0  1  2  3   4    5\n",
    "---------------------------\n",
    "| |   |  |   |    |44|\n",
    "---------------------------\n",
    "        11 -> 'John'\n",
    "        |\n",
    "        33 -> 'Aby'\n",
    "        |\n",
    "\n",
    "\n",
    "\n",
    "Different techniques for handling collision\n",
    "John -> 2\n",
    "Aby -> 2\n",
    "Another data structure to linked list\n",
    "\n",
    "While retriving -> Aby -> 2\n",
    "\n",
    "======================================\n",
    "4. Big O of operations on a Hash Table\n",
    "======================================\n",
    "1. Access -> given key to find the value\n",
    "2. Insert -> Inserting new key value pair to hash table\n",
    "3. Delete -> \n",
    "\n",
    "T = O(1) avg\n",
    "S = O(1)\n",
    "\n",
    "========================================================\n",
    "                        Hash Table\n",
    "Access                T=O(1) avg, S=O(1)\n",
    "Insert                T=O(1) avg, S=O(1)\n",
    "Delete                T=O(1) avg, S=O(1)\n",
    "Search for a key      T=O(1)\n",
    "Search for a value    T=O(n)\n",
    "Create a new Hash table with n key - value pairs    S=O(n)\n",
    "==========================================================\n",
    "\n",
    "```"
   ]
  },
  {
   "cell_type": "code",
   "execution_count": 12,
   "metadata": {},
   "outputs": [],
   "source": [
    "# Q1. You are given an array of Integers and another integer targetValue. Write a function\n",
    "# that will take these inputs and return the indices of the 2 integer in the array that add up targetValue.\n",
    "\n",
    "#  input array [2,7] and target value 9 output is [0,1]\n",
    "#  input array [2,7,3,-1,4] tv = 2 output is [2,3]\n",
    "# [] tv=100 output []\n",
    "# [25] tv = 25 output []\n",
    "# [] tv = 10 []"
   ]
  },
  {
   "cell_type": "code",
   "execution_count": 23,
   "metadata": {},
   "outputs": [
    {
     "name": "stdout",
     "output_type": "stream",
     "text": [
      "[ \u001b[33m0\u001b[39m, \u001b[33m1\u001b[39m ]\n",
      "[]\n"
     ]
    }
   ],
   "source": [
    "%%script node\n",
    "const table = function (array, value) {\n",
    "    let final = [];\n",
    "\n",
    "    if(array.length === 0) {\n",
    "        return new Array();\n",
    "    } else if (array[0] === value) {\n",
    "        return new Array();\n",
    "    } else if (value.length === 0) {\n",
    "        return new Array();\n",
    "    }\n",
    "    else {\n",
    "    for (let i=0; i<array.length-1; i++) {\n",
    "        for (let j=i+1; j<array.length; j++) {\n",
    "            if (value === array[i]+array[j] ) {\n",
    "                final.push(i, j)\n",
    "            }\n",
    "        }\n",
    "\n",
    "    }\n",
    "    return final;\n",
    "}\n",
    "}\n",
    "console.log(table([2,7], 9))\n",
    "console.log(table([2,7, 3, -1, 4], 2))\n",
    "\n"
   ]
  },
  {
   "cell_type": "code",
   "execution_count": 27,
   "metadata": {},
   "outputs": [
    {
     "name": "stdout",
     "output_type": "stream",
     "text": [
      "[ \u001b[33m0\u001b[39m, \u001b[33m1\u001b[39m ]\n",
      "[ \u001b[33m2\u001b[39m, \u001b[33m3\u001b[39m ]\n"
     ]
    }
   ],
   "source": [
    "%%script node\n",
    "const table = function (array, value) {\n",
    "    let final = [];\n",
    "    for (let i=0; i<array.length-1; i++) {\n",
    "        for (let j=i+1; j<array.length; j++) {\n",
    "            if (value === array[i]+array[j] ) {\n",
    "                final.push(i, j)\n",
    "            }\n",
    "        }\n",
    "\n",
    "    }\n",
    "    return final;\n",
    "}\n",
    "console.log(table([2,7], 9))\n",
    "console.log(table([2,7, 3, -1, 4], 2))"
   ]
  },
  {
   "cell_type": "code",
   "execution_count": 37,
   "metadata": {},
   "outputs": [
    {
     "name": "stdout",
     "output_type": "stream",
     "text": [
      "[ \u001b[33m0\u001b[39m, \u001b[33m3\u001b[39m ]\n"
     ]
    }
   ],
   "source": [
    "%%script node\n",
    "function findIndicesSum(array, targetValue) {\n",
    "    for (let i=0; i<array.length-1; i++) {\n",
    "        for(let j=i+1; j<array.length; j++) {\n",
    "            if(targetValue === array[i] + array[j]) {\n",
    "                return [i,j];\n",
    "            }\n",
    "        }\n",
    "    }\n",
    "    return [];\n",
    "}\n",
    "console.log(findIndicesSum([2,3,4,5], 7))"
   ]
  },
  {
   "cell_type": "markdown",
   "metadata": {},
   "source": [
    "```\n",
    "Q.2 Given two string s and t, determine if they are isomorphic. Two strings s and t are isomorphic if the character in s can be replaced to get it. All occurrences of a character must be replaced with another character while preserving the order of characters. No two characters may map to the same character, but a character may map to itself. s and t consist of any valid ascii character.\n",
    "\n",
    "```"
   ]
  },
  {
   "cell_type": "code",
   "execution_count": 7,
   "metadata": {},
   "outputs": [
    {
     "name": "stdout",
     "output_type": "stream",
     "text": [
      "\u001b[33mtrue\u001b[39m\n",
      "\u001b[33mfalse\u001b[39m\n",
      "\u001b[33mfalse\u001b[39m\n",
      "\u001b[33mtrue\u001b[39m\n"
     ]
    }
   ],
   "source": [
    "%%script node\n",
    "const checkIsomorphic = function(s, t) {\n",
    "    if(s.length !== t.length) return false;\n",
    "\n",
    "    const sHash = {};\n",
    "    const tHash = {};\n",
    "\n",
    "    for(let i=0; i<s.length; i++) {\n",
    "        let charS = s[i];\n",
    "        let charT = t[i];\n",
    "\n",
    "        if(!sHash[charS]) sHash[charS] = charT; // if there is no entires in sHash then make entry charT\n",
    "        if(!tHash[charT]) tHash[charT] = charS;\n",
    "        if(sHash[charS]!==charT || tHash[charT]!==charS) return false;\n",
    "    }\n",
    "    return true\n",
    "}\n",
    "console.log(checkIsomorphic('aa', 'bb'))\n",
    "console.log(checkIsomorphic('aac', 'bb'))\n",
    "console.log(checkIsomorphic('aac', 'bbb'))\n",
    "console.log(checkIsomorphic('aac', 'bbd'))"
   ]
  },
  {
   "cell_type": "code",
   "execution_count": 9,
   "metadata": {},
   "outputs": [
    {
     "data": {
      "text/plain": [
       "True"
      ]
     },
     "execution_count": 9,
     "metadata": {},
     "output_type": "execute_result"
    }
   ],
   "source": [
    "def checkIsomorphic(s, t):\n",
    "    if len(s) != len(t): return False\n",
    "    sHash = {}\n",
    "    tHash = {}\n",
    "    for i in range(len(s)):\n",
    "        charS = s[i]\n",
    "        charT = t[i]\n",
    "        if charS not in sHash:\n",
    "            sHash[charS] = charT\n",
    "        if charT not in tHash:\n",
    "            tHash[charT] = charS\n",
    "        if sHash[charS] != charT or tHash[charT] != charS: return False\n",
    "    return True\n",
    "checkIsomorphic('aa', 'bb')"
   ]
  },
  {
   "cell_type": "code",
   "execution_count": null,
   "metadata": {},
   "outputs": [],
   "source": []
  }
 ],
 "metadata": {
  "kernelspec": {
   "display_name": "Python 3",
   "language": "python",
   "name": "python3"
  },
  "language_info": {
   "codemirror_mode": {
    "name": "ipython",
    "version": 3
   },
   "file_extension": ".py",
   "mimetype": "text/x-python",
   "name": "python",
   "nbconvert_exporter": "python",
   "pygments_lexer": "ipython3",
   "version": "3.11.4"
  }
 },
 "nbformat": 4,
 "nbformat_minor": 2
}
