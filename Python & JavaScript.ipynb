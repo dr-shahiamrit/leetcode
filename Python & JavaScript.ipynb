{
 "cells": [
  {
   "cell_type": "markdown",
   "metadata": {},
   "source": [
    "###### Q.1 You are given an array of integers in which each subsequent value is not less than the previous value. Write a function that takes this array as an input and returns a new array with the squares of each number sorted in ascending order."
   ]
  },
  {
   "cell_type": "code",
   "execution_count": 8,
   "metadata": {},
   "outputs": [
    {
     "name": "stdout",
     "output_type": "stream",
     "text": [
      "[1, 9, 49]\n"
     ]
    }
   ],
   "source": [
    "def sorted_squared(array):\n",
    "    #write code here.make sure to return desired array\n",
    "    square_values = list(sorted(map(lambda x: x**2, array)))\n",
    "    print(square_values)\n",
    "sorted_squared([1,3,7])"
   ]
  },
  {
   "cell_type": "code",
   "execution_count": 6,
   "metadata": {},
   "outputs": [
    {
     "name": "stdout",
     "output_type": "stream",
     "text": [
      "[1, 9, 49]\n"
     ]
    }
   ],
   "source": [
    "def sorted_squared(array):\n",
    "    #write code here.make sure to return desired array\n",
    "    square_values = [(lambda x: x**2)(x) for x in array]\n",
    "    print(square_values)\n",
    "sorted_squared([1,3,7])"
   ]
  },
  {
   "cell_type": "code",
   "execution_count": 12,
   "metadata": {},
   "outputs": [
    {
     "data": {
      "text/plain": [
       "[9, 16, 64]"
      ]
     },
     "execution_count": 12,
     "metadata": {},
     "output_type": "execute_result"
    }
   ],
   "source": [
    "def sorted_squared(array):\n",
    "    double_arr = []\n",
    "    for i in array:\n",
    "        double_arr.append(i**2)\n",
    "    return sorted(double_arr)\n",
    "sorted_squared([8,3,4])"
   ]
  },
  {
   "cell_type": "code",
   "execution_count": 59,
   "metadata": {},
   "outputs": [],
   "source": [
    "%%script node\n",
    "function sortedSquared(array) {\n",
    "    const newArray = new Array(array.length).fill(0);\n",
    "    for (let i = 0; i < array.length; i++) {\n",
    "        newArray[i] = Math.pow(array[i], 2);\n",
    "    }\n",
    "    newArray.sort()\n",
    "}\n",
    "sortedSquared([1,2,3])"
   ]
  },
  {
   "cell_type": "code",
   "execution_count": 74,
   "metadata": {},
   "outputs": [
    {
     "name": "stdout",
     "output_type": "stream",
     "text": [
      "[ \u001b[33m1\u001b[39m, \u001b[33m9\u001b[39m, \u001b[33m16\u001b[39m, \u001b[33m25\u001b[39m ]\n",
      "[ \u001b[33m4\u001b[39m, \u001b[33m9\u001b[39m, \u001b[33m16\u001b[39m, \u001b[33m49\u001b[39m, \u001b[33m81\u001b[39m ]\n",
      "[]\n"
     ]
    }
   ],
   "source": [
    "%%script node\n",
    "function sortedArray(array) {\n",
    "    const newArray = new Array(array.length).fill(0)\n",
    "    for (let i = 0; i < array.length; i++) {\n",
    "        newArray[i] = Math.pow(array[i], 2);\n",
    "    }\n",
    "    newArray.sort(function(a, b) \n",
    "    {\n",
    "        return a - b\n",
    "    });\n",
    "    return newArray;\n",
    "}\n",
    "a = [1, 3, 4, 5]\n",
    "b = [-7, -2, 3, 4, 9]\n",
    "c = []\n",
    "console.log(sortedArray(a))\n",
    "console.log(sortedArray(b))\n",
    "console.log(sortedArray(c))"
   ]
  },
  {
   "cell_type": "code",
   "execution_count": 75,
   "metadata": {},
   "outputs": [
    {
     "name": "stdout",
     "output_type": "stream",
     "text": [
      "[ \u001b[33m1\u001b[39m, \u001b[33m5\u001b[39m, \u001b[33m10\u001b[39m, \u001b[33m25\u001b[39m, \u001b[33m40\u001b[39m, \u001b[33m100\u001b[39m ]\n"
     ]
    }
   ],
   "source": [
    "%%script node\n",
    "var points = [40, 100, 1, 5, 25, 10];\n",
    "console.log(points.sort(function(a, b) {\n",
    "    return a - b\n",
    "}))\n"
   ]
  },
  {
   "cell_type": "code",
   "execution_count": 76,
   "metadata": {},
   "outputs": [
    {
     "name": "stdout",
     "output_type": "stream",
     "text": [
      "[ \u001b[33m1\u001b[39m, \u001b[33m4\u001b[39m, \u001b[33m9\u001b[39m ]\n"
     ]
    }
   ],
   "source": [
    "%%script node\n",
    "function sortedSquared(array) {\n",
    "    const newArray = new Array(array.length).fill(0)\n",
    "    for (let i = 0; i < array.length; i++) {\n",
    "        newArray[i] = Math.pow(array[i], 2);\n",
    "    }\n",
    "    newArray.sort(function(a, b) { return a - b})\n",
    "    return newArray\n",
    "}\n",
    "\n",
    "console.log(sortedSquared([1, 3, 2]))"
   ]
  },
  {
   "cell_type": "code",
   "execution_count": 1,
   "metadata": {},
   "outputs": [],
   "source": [
    "# Big O Analysis\n",
    "# space and time O(nlogn)"
   ]
  },
  {
   "cell_type": "code",
   "execution_count": 23,
   "metadata": {},
   "outputs": [
    {
     "name": "stdout",
     "output_type": "stream",
     "text": [
      "[1, 4, 9]\n"
     ]
    }
   ],
   "source": [
    "def sorted_squared(array):\n",
    "    newArray = [0]*len(array)\n",
    "    for i in range(len(array)):\n",
    "        newArray[i] = array[i]**2\n",
    "    newArray.sort()\n",
    "    return newArray\n",
    "print(sorted_squared([1,2,3]))"
   ]
  },
  {
   "cell_type": "markdown",
   "metadata": {},
   "source": [
    "###### Q.2 An array is monotonic if it is either monotone increasing or monotone decreasing. An array is monotone incresing if all its elements from left to right are non-decreasing. An array is monotone decreasing if all its elements from left to right are non-increasing. Given an integer array returns true if the given array is monotonic, or false otherwise."
   ]
  },
  {
   "cell_type": "code",
   "execution_count": 12,
   "metadata": {},
   "outputs": [
    {
     "name": "stdout",
     "output_type": "stream",
     "text": [
      "\u001b[33mtrue\u001b[39m\n",
      "\u001b[33mtrue\u001b[39m\n",
      "\u001b[33mtrue\u001b[39m\n",
      "\u001b[33mfalse\u001b[39m\n",
      "\u001b[33mtrue\u001b[39m\n",
      "\u001b[33mfalse\u001b[39m\n",
      "\u001b[33mtrue\u001b[39m\n",
      "\u001b[33mtrue\u001b[39m\n"
     ]
    }
   ],
   "source": [
    "%%script node\n",
    "const checkMonotonic = function(array) {\n",
    "    const first = array[0]\n",
    "    const last = array[array.length - 1]\n",
    "\n",
    "    if(first === last) {\n",
    "        for (let i = 0; i < array.length -1; i++) {\n",
    "            if(array[i+1] !== array[i]) return false; \n",
    "        }\n",
    "    }\n",
    "    else if (first < last) {\n",
    "        // non decresing\n",
    "        for (let i = 0; i < array.length - 1; i++) {\n",
    "            if (array[i+1] < array[i]) return false;\n",
    "        }\n",
    "    }\n",
    "    else {\n",
    "        // non incresing\n",
    "        for (let i = 0; i < array.length - 1; i++) {\n",
    "            if(array[i+1] > array[i]) return false;\n",
    "        }\n",
    "    }\n",
    "    return true;\n",
    "}\n",
    "// these function is running O(n) times but space complexity is O(n) because we are not using auxalary space\n",
    "console.log(checkMonotonic([1,2,3])) // non decresing\n",
    "console.log(checkMonotonic([2,2,2])) // equal\n",
    "console.log(checkMonotonic([2,2,2,10]))\n",
    "console.log(checkMonotonic([2,2,2,10,1])) //\n",
    "console.log(checkMonotonic([3,2,1])) \n",
    "console.log(checkMonotonic([3,2,1,10]))\n",
    "console.log(checkMonotonic([]))\n",
    "console.log(checkMonotonic([9]))"
   ]
  },
  {
   "cell_type": "code",
   "execution_count": null,
   "metadata": {},
   "outputs": [],
   "source": []
  }
 ],
 "metadata": {
  "kernelspec": {
   "display_name": "Python 3",
   "language": "python",
   "name": "python3"
  },
  "language_info": {
   "codemirror_mode": {
    "name": "ipython",
    "version": 3
   },
   "file_extension": ".py",
   "mimetype": "text/x-python",
   "name": "python",
   "nbconvert_exporter": "python",
   "pygments_lexer": "ipython3",
   "version": "3.11.4"
  }
 },
 "nbformat": 4,
 "nbformat_minor": 2
}
