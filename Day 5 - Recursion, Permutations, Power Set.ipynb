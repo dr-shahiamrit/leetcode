{
 "cells": [
  {
   "cell_type": "markdown",
   "metadata": {},
   "source": [
    "```\n",
    "Day 5 Goals\n",
    "Welcome to Day 5 of the DSA Coding Challenge:\n",
    "\n",
    "Todays Goals (Recursion) :\n",
    "\n",
    "Question 1: Permutations - Given an array of distinct integers, return all the possible permutations. You can return the answer in any order.\n",
    "\n",
    "Question 2: Power Set - Given an integer array of unique elements, return all possible subsets (the power set). The solution set must not contain duplicate subsets. Return the solution in any order.\n",
    "\n",
    "All the best!\n",
    "```"
   ]
  },
  {
   "cell_type": "code",
   "execution_count": null,
   "metadata": {},
   "outputs": [],
   "source": [
    "# Question 1: Given an array of distinct integers, returns all the possible permutations. You can return the answer in any order.\n",
    "%%script node\n",
    "function allPermutation(nums) {\n",
    "    const permutations = [];\n",
    "    function helper(nums, i) {\n",
    "        if(i === nums.length-1) {\n",
    "            \n",
    "        }\n",
    "    }\n",
    "}"
   ]
  },
  {
   "cell_type": "code",
   "execution_count": 1,
   "metadata": {},
   "outputs": [
    {
     "ename": "FileNotFoundError",
     "evalue": "[Errno 2] No such file or directory: 'downloaded_files\\\\'",
     "output_type": "error",
     "traceback": [
      "\u001b[1;31m---------------------------------------------------------------------------\u001b[0m",
      "\u001b[1;31mFileNotFoundError\u001b[0m                         Traceback (most recent call last)",
      "Cell \u001b[1;32mIn[1], line 46\u001b[0m\n\u001b[0;32m     43\u001b[0m os\u001b[38;5;241m.\u001b[39mmakedirs(destination_folder, exist_ok\u001b[38;5;241m=\u001b[39m\u001b[38;5;28;01mTrue\u001b[39;00m)\n\u001b[0;32m     45\u001b[0m \u001b[38;5;66;03m# Download files from the folder URL\u001b[39;00m\n\u001b[1;32m---> 46\u001b[0m \u001b[43mdownload_files_from_folder\u001b[49m\u001b[43m(\u001b[49m\u001b[43mfolder_url\u001b[49m\u001b[43m,\u001b[49m\u001b[43m \u001b[49m\u001b[43mdestination_folder\u001b[49m\u001b[43m)\u001b[49m\n",
      "Cell \u001b[1;32mIn[1], line 32\u001b[0m, in \u001b[0;36mdownload_files_from_folder\u001b[1;34m(folder_url, dest_folder)\u001b[0m\n\u001b[0;32m     30\u001b[0m     \u001b[38;5;28;01mfor\u001b[39;00m link \u001b[38;5;129;01min\u001b[39;00m links:\n\u001b[0;32m     31\u001b[0m         file_url \u001b[38;5;241m=\u001b[39m urljoin(folder_url, link[\u001b[38;5;124m'\u001b[39m\u001b[38;5;124mhref\u001b[39m\u001b[38;5;124m'\u001b[39m])\n\u001b[1;32m---> 32\u001b[0m         \u001b[43mdownload_file\u001b[49m\u001b[43m(\u001b[49m\u001b[43mfile_url\u001b[49m\u001b[43m,\u001b[49m\u001b[43m \u001b[49m\u001b[43mdest_folder\u001b[49m\u001b[43m)\u001b[49m\n\u001b[0;32m     33\u001b[0m         \u001b[38;5;28mprint\u001b[39m(\u001b[38;5;124mf\u001b[39m\u001b[38;5;124m\"\u001b[39m\u001b[38;5;124mDownloaded: \u001b[39m\u001b[38;5;132;01m{\u001b[39;00mfile_url\u001b[38;5;132;01m}\u001b[39;00m\u001b[38;5;124m\"\u001b[39m)\n\u001b[0;32m     35\u001b[0m \u001b[38;5;28;01melse\u001b[39;00m:\n",
      "Cell \u001b[1;32mIn[1], line 12\u001b[0m, in \u001b[0;36mdownload_file\u001b[1;34m(url, dest_folder)\u001b[0m\n\u001b[0;32m     10\u001b[0m \u001b[38;5;66;03m# Download the file\u001b[39;00m\n\u001b[0;32m     11\u001b[0m \u001b[38;5;28;01mwith\u001b[39;00m requests\u001b[38;5;241m.\u001b[39mget(url, stream\u001b[38;5;241m=\u001b[39m\u001b[38;5;28;01mTrue\u001b[39;00m) \u001b[38;5;28;01mas\u001b[39;00m response:\n\u001b[1;32m---> 12\u001b[0m     \u001b[38;5;28;01mwith\u001b[39;00m \u001b[38;5;28;43mopen\u001b[39;49m\u001b[43m(\u001b[49m\u001b[43mfile_name\u001b[49m\u001b[43m,\u001b[49m\u001b[43m \u001b[49m\u001b[38;5;124;43m'\u001b[39;49m\u001b[38;5;124;43mwb\u001b[39;49m\u001b[38;5;124;43m'\u001b[39;49m\u001b[43m)\u001b[49m \u001b[38;5;28;01mas\u001b[39;00m file:\n\u001b[0;32m     13\u001b[0m         \u001b[38;5;28;01mfor\u001b[39;00m chunk \u001b[38;5;129;01min\u001b[39;00m response\u001b[38;5;241m.\u001b[39miter_content(chunk_size\u001b[38;5;241m=\u001b[39m\u001b[38;5;241m8192\u001b[39m):\n\u001b[0;32m     14\u001b[0m             \u001b[38;5;28;01mif\u001b[39;00m chunk:\n",
      "File \u001b[1;32m~\\AppData\\Roaming\\Python\\Python311\\site-packages\\IPython\\core\\interactiveshell.py:284\u001b[0m, in \u001b[0;36m_modified_open\u001b[1;34m(file, *args, **kwargs)\u001b[0m\n\u001b[0;32m    277\u001b[0m \u001b[38;5;28;01mif\u001b[39;00m file \u001b[38;5;129;01min\u001b[39;00m {\u001b[38;5;241m0\u001b[39m, \u001b[38;5;241m1\u001b[39m, \u001b[38;5;241m2\u001b[39m}:\n\u001b[0;32m    278\u001b[0m     \u001b[38;5;28;01mraise\u001b[39;00m \u001b[38;5;167;01mValueError\u001b[39;00m(\n\u001b[0;32m    279\u001b[0m         \u001b[38;5;124mf\u001b[39m\u001b[38;5;124m\"\u001b[39m\u001b[38;5;124mIPython won\u001b[39m\u001b[38;5;124m'\u001b[39m\u001b[38;5;124mt let you open fd=\u001b[39m\u001b[38;5;132;01m{\u001b[39;00mfile\u001b[38;5;132;01m}\u001b[39;00m\u001b[38;5;124m by default \u001b[39m\u001b[38;5;124m\"\u001b[39m\n\u001b[0;32m    280\u001b[0m         \u001b[38;5;124m\"\u001b[39m\u001b[38;5;124mas it is likely to crash IPython. If you know what you are doing, \u001b[39m\u001b[38;5;124m\"\u001b[39m\n\u001b[0;32m    281\u001b[0m         \u001b[38;5;124m\"\u001b[39m\u001b[38;5;124myou can use builtins\u001b[39m\u001b[38;5;124m'\u001b[39m\u001b[38;5;124m open.\u001b[39m\u001b[38;5;124m\"\u001b[39m\n\u001b[0;32m    282\u001b[0m     )\n\u001b[1;32m--> 284\u001b[0m \u001b[38;5;28;01mreturn\u001b[39;00m \u001b[43mio_open\u001b[49m\u001b[43m(\u001b[49m\u001b[43mfile\u001b[49m\u001b[43m,\u001b[49m\u001b[43m \u001b[49m\u001b[38;5;241;43m*\u001b[39;49m\u001b[43margs\u001b[49m\u001b[43m,\u001b[49m\u001b[43m \u001b[49m\u001b[38;5;241;43m*\u001b[39;49m\u001b[38;5;241;43m*\u001b[39;49m\u001b[43mkwargs\u001b[49m\u001b[43m)\u001b[49m\n",
      "\u001b[1;31mFileNotFoundError\u001b[0m: [Errno 2] No such file or directory: 'downloaded_files\\\\'"
     ]
    }
   ],
   "source": [
    "import os\n",
    "import requests\n",
    "from bs4 import BeautifulSoup\n",
    "from urllib.parse import urljoin, urlparse\n",
    "\n",
    "def download_file(url, dest_folder):\n",
    "    # Extract the filename from the URL\n",
    "    file_name = os.path.join(dest_folder, os.path.basename(urlparse(url).path))\n",
    "\n",
    "    # Download the file\n",
    "    with requests.get(url, stream=True) as response:\n",
    "        with open(file_name, 'wb') as file:\n",
    "            for chunk in response.iter_content(chunk_size=8192):\n",
    "                if chunk:\n",
    "                    file.write(chunk)\n",
    "\n",
    "def download_files_from_folder(folder_url, dest_folder):\n",
    "    # Send a GET request to the folder URL\n",
    "    response = requests.get(folder_url)\n",
    "    \n",
    "    # Check if the request was successful (status code 200)\n",
    "    if response.status_code == 200:\n",
    "        # Parse the HTML content of the page\n",
    "        soup = BeautifulSoup(response.content, 'html.parser')\n",
    "\n",
    "        # Find all links on the page\n",
    "        links = soup.find_all('a', href=True)\n",
    "\n",
    "        # Download each file\n",
    "        for link in links:\n",
    "            file_url = urljoin(folder_url, link['href'])\n",
    "            download_file(file_url, dest_folder)\n",
    "            print(f\"Downloaded: {file_url}\")\n",
    "\n",
    "    else:\n",
    "        print(f\"Failed to retrieve the folder content. Status Code: {response.status_code}\")\n",
    "\n",
    "# Specify the URL of the folder and the destination folder to save the files\n",
    "folder_url = \"https://kecpublication.com/wp-content/uploads/\"\n",
    "destination_folder = \"downloaded_files\"\n",
    "\n",
    "# Create the destination folder if it doesn't exist\n",
    "os.makedirs(destination_folder, exist_ok=True)\n",
    "\n",
    "# Download files from the folder URL\n",
    "download_files_from_folder(folder_url, destination_folder)\n"
   ]
  },
  {
   "cell_type": "code",
   "execution_count": 8,
   "metadata": {},
   "outputs": [],
   "source": [
    "import os\n",
    "import requests\n",
    "from bs4 import BeautifulSoup\n",
    "from urllib.parse import urljoin, urlparse\n",
    "\n",
    "def download_file(url, dest_folder):\n",
    "    # Extract the filename from the URL\n",
    "    file_name = os.path.join(dest_folder, os.path.basename(urlparse(url).path))\n",
    "\n",
    "    # Download the file\n",
    "    with requests.get(url, stream=True) as response:\n",
    "        with open(file_name, 'wb') as file:\n",
    "            for chunk in response.iter_content(chunk_size=8192):\n",
    "                if chunk:\n",
    "                    file.write(chunk)\n",
    "\n",
    "def download_files_from_folder(folder_url, dest_folder):\n",
    "    # Send a GET request to the folder URL\n",
    "    response = requests.get(folder_url)\n",
    "    \n",
    "    # Check if the request was successful (status code 200)\n",
    "    if response.status_code == 200:\n",
    "        # Parse the HTML content of the page\n",
    "        soup = BeautifulSoup(response.content, 'html.parser')\n",
    "\n",
    "        # Find all links on the page\n",
    "        links = soup.find_all('a', href=True)\n",
    "\n",
    "        # Download each file\n",
    "        for link in links:\n",
    "            file_url = urljoin(folder_url, link['href'])\n",
    "            download_file(file_url, dest_folder)\n",
    "            print(f\"Downloaded: {file_url}\")\n",
    "\n",
    "    else:\n",
    "        print(f\"Failed to retrieve the folder content. Status Code: {response.status_code}\")\n",
    "\n",
    "# Specify the URL of the folder and the destination folder to save the files\n",
    "folder_url = \"https://kecpublication.com/wp-content/uploads/\"\n",
    "destination_folder = \"downloaded_files\"\n",
    "\n",
    "# Create the destination folder if it doesn't exist\n",
    "os.makedirs(destination_folder, exist_ok=True)\n",
    "\n",
    "# Download files from the folder URL\n",
    "destination_folder = \"E:\\LeetCode\\Python & JavaScript\"\n"
   ]
  },
  {
   "cell_type": "code",
   "execution_count": 14,
   "metadata": {},
   "outputs": [
    {
     "ename": "TypeError",
     "evalue": "WebDriver.__init__() got an unexpected keyword argument 'executable_path'",
     "output_type": "error",
     "traceback": [
      "\u001b[1;31m---------------------------------------------------------------------------\u001b[0m",
      "\u001b[1;31mTypeError\u001b[0m                                 Traceback (most recent call last)",
      "Cell \u001b[1;32mIn[14], line 48\u001b[0m\n\u001b[0;32m     45\u001b[0m os\u001b[38;5;241m.\u001b[39mmakedirs(destination_folder, exist_ok\u001b[38;5;241m=\u001b[39m\u001b[38;5;28;01mTrue\u001b[39;00m)\n\u001b[0;32m     47\u001b[0m \u001b[38;5;66;03m# Download files from the folder URL using selenium\u001b[39;00m\n\u001b[1;32m---> 48\u001b[0m \u001b[43mdownload_files_from_folder\u001b[49m\u001b[43m(\u001b[49m\u001b[43mfolder_url\u001b[49m\u001b[43m,\u001b[49m\u001b[43m \u001b[49m\u001b[43mdestination_folder\u001b[49m\u001b[43m)\u001b[49m\n",
      "Cell \u001b[1;32mIn[14], line 17\u001b[0m, in \u001b[0;36mdownload_files_from_folder\u001b[1;34m(folder_url, dest_folder)\u001b[0m\n\u001b[0;32m     14\u001b[0m chromedriver_path \u001b[38;5;241m=\u001b[39m \u001b[38;5;124m\"\u001b[39m\u001b[38;5;124mpath/to/chromedriver\u001b[39m\u001b[38;5;124m\"\u001b[39m  \u001b[38;5;66;03m# Replace with the actual path to chromedriver\u001b[39;00m\n\u001b[0;32m     16\u001b[0m \u001b[38;5;66;03m# Initialize the Chrome browser\u001b[39;00m\n\u001b[1;32m---> 17\u001b[0m \u001b[38;5;28;01mwith\u001b[39;00m \u001b[43mwebdriver\u001b[49m\u001b[38;5;241;43m.\u001b[39;49m\u001b[43mChrome\u001b[49m\u001b[43m(\u001b[49m\u001b[43mexecutable_path\u001b[49m\u001b[38;5;241;43m=\u001b[39;49m\u001b[43mchromedriver_path\u001b[49m\u001b[43m,\u001b[49m\u001b[43m \u001b[49m\u001b[43moptions\u001b[49m\u001b[38;5;241;43m=\u001b[39;49m\u001b[43mchrome_options\u001b[49m\u001b[43m)\u001b[49m \u001b[38;5;28;01mas\u001b[39;00m driver:\n\u001b[0;32m     18\u001b[0m     driver\u001b[38;5;241m.\u001b[39mget(folder_url)\n\u001b[0;32m     20\u001b[0m     \u001b[38;5;66;03m# Get all links on the page\u001b[39;00m\n",
      "\u001b[1;31mTypeError\u001b[0m: WebDriver.__init__() got an unexpected keyword argument 'executable_path'"
     ]
    }
   ],
   "source": [
    "import os\n",
    "import requests\n",
    "from selenium import webdriver\n",
    "from selenium.webdriver.chrome.service import Service as ChromeService\n",
    "from selenium.webdriver.chrome.options import Options\n",
    "\n",
    "def download_files_from_folder(folder_url, dest_folder):\n",
    "    # Set up Chrome options\n",
    "    chrome_options = Options()\n",
    "    chrome_options.add_argument(\"--headless\")  # Run Chrome in headless mode (no GUI)\n",
    "    chrome_options.add_argument(\"--disable-gpu\")\n",
    "    \n",
    "    # Provide the path to your chromedriver executable\n",
    "    chromedriver_path = \"path/to/chromedriver\"  # Replace with the actual path to chromedriver\n",
    "    \n",
    "    # Initialize the Chrome browser\n",
    "    with webdriver.Chrome(executable_path=chromedriver_path, options=chrome_options) as driver:\n",
    "        driver.get(folder_url)\n",
    "\n",
    "        # Get all links on the page\n",
    "        links = driver.find_elements_by_css_selector('a[href]')\n",
    "\n",
    "        # Download each file\n",
    "        for link in links:\n",
    "            file_url = link.get_attribute('href')\n",
    "            download_file(file_url, dest_folder)\n",
    "            print(f\"Downloaded: {file_url}\")\n",
    "\n",
    "def download_file(url, dest_folder):\n",
    "    # Extract the filename from the URL\n",
    "    file_name = os.path.join(dest_folder, os.path.basename(url))\n",
    "\n",
    "    # Download the file\n",
    "    with requests.get(url, stream=True) as response:\n",
    "        with open(file_name, 'wb') as file:\n",
    "            for chunk in response.iter_content(chunk_size=8192):\n",
    "                if chunk:\n",
    "                    file.write(chunk)\n",
    "\n",
    "# Specify the URL of the folder and the destination folder to save the files\n",
    "folder_url = \"https://kecpublication.com/wp-content/uploads/\"\n",
    "destination_folder = r\"E:\\LeetCode\\Python & JavaScript\"  # Use raw string or escape backslashes\n",
    "\n",
    "# Create the destination folder if it doesn't exist\n",
    "os.makedirs(destination_folder, exist_ok=True)\n",
    "\n",
    "# Download files from the folder URL using selenium\n",
    "download_files_from_folder(folder_url, destination_folder)\n"
   ]
  },
  {
   "cell_type": "code",
   "execution_count": 13,
   "metadata": {},
   "outputs": [
    {
     "name": "stdout",
     "output_type": "stream",
     "text": [
      "Requirement already satisfied: selenium in c:\\python311\\lib\\site-packages (4.16.0)\n",
      "Requirement already satisfied: urllib3<3,>=1.26 in c:\\users\\dell\\appdata\\roaming\\python\\python311\\site-packages (from urllib3[socks]<3,>=1.26->selenium) (2.1.0)\n",
      "Requirement already satisfied: trio~=0.17 in c:\\python311\\lib\\site-packages (from selenium) (0.23.2)\n",
      "Requirement already satisfied: trio-websocket~=0.9 in c:\\python311\\lib\\site-packages (from selenium) (0.11.1)\n",
      "Requirement already satisfied: certifi>=2021.10.8 in c:\\users\\dell\\appdata\\roaming\\python\\python311\\site-packages (from selenium) (2023.11.17)\n",
      "Requirement already satisfied: attrs>=20.1.0 in c:\\users\\dell\\appdata\\roaming\\python\\python311\\site-packages (from trio~=0.17->selenium) (23.1.0)\n",
      "Requirement already satisfied: sortedcontainers in c:\\python311\\lib\\site-packages (from trio~=0.17->selenium) (2.4.0)\n",
      "Requirement already satisfied: idna in c:\\users\\dell\\appdata\\roaming\\python\\python311\\site-packages (from trio~=0.17->selenium) (3.6)\n",
      "Requirement already satisfied: outcome in c:\\python311\\lib\\site-packages (from trio~=0.17->selenium) (1.3.0.post0)\n",
      "Requirement already satisfied: sniffio>=1.3.0 in c:\\users\\dell\\appdata\\roaming\\python\\python311\\site-packages (from trio~=0.17->selenium) (1.3.0)\n",
      "Requirement already satisfied: cffi>=1.14 in c:\\users\\dell\\appdata\\roaming\\python\\python311\\site-packages (from trio~=0.17->selenium) (1.16.0)\n",
      "Requirement already satisfied: wsproto>=0.14 in c:\\python311\\lib\\site-packages (from trio-websocket~=0.9->selenium) (1.2.0)\n",
      "Requirement already satisfied: pysocks!=1.5.7,<2.0,>=1.5.6 in c:\\python311\\lib\\site-packages (from urllib3[socks]<3,>=1.26->selenium) (1.7.1)\n",
      "Requirement already satisfied: pycparser in c:\\users\\dell\\appdata\\roaming\\python\\python311\\site-packages (from cffi>=1.14->trio~=0.17->selenium) (2.21)\n",
      "Requirement already satisfied: h11<1,>=0.9.0 in c:\\python311\\lib\\site-packages (from wsproto>=0.14->trio-websocket~=0.9->selenium) (0.14.0)\n",
      "Note: you may need to restart the kernel to use updated packages.\n"
     ]
    },
    {
     "name": "stderr",
     "output_type": "stream",
     "text": [
      "\n",
      "[notice] A new release of pip is available: 23.3.1 -> 23.3.2\n",
      "[notice] To update, run: python.exe -m pip install --upgrade pip\n"
     ]
    }
   ],
   "source": [
    "pip install --upgrade selenium\n"
   ]
  },
  {
   "cell_type": "code",
   "execution_count": 18,
   "metadata": {},
   "outputs": [
    {
     "ename": "TypeError",
     "evalue": "WebDriver.__init__() got an unexpected keyword argument 'executable_path'",
     "output_type": "error",
     "traceback": [
      "\u001b[1;31m---------------------------------------------------------------------------\u001b[0m",
      "\u001b[1;31mTypeError\u001b[0m                                 Traceback (most recent call last)",
      "Cell \u001b[1;32mIn[18], line 48\u001b[0m\n\u001b[0;32m     45\u001b[0m os\u001b[38;5;241m.\u001b[39mmakedirs(destination_folder, exist_ok\u001b[38;5;241m=\u001b[39m\u001b[38;5;28;01mTrue\u001b[39;00m)\n\u001b[0;32m     47\u001b[0m \u001b[38;5;66;03m# Download files from the folder URL using selenium\u001b[39;00m\n\u001b[1;32m---> 48\u001b[0m \u001b[43mdownload_files_from_folder\u001b[49m\u001b[43m(\u001b[49m\u001b[43mfolder_url\u001b[49m\u001b[43m,\u001b[49m\u001b[43m \u001b[49m\u001b[43mdestination_folder\u001b[49m\u001b[43m)\u001b[49m\n",
      "Cell \u001b[1;32mIn[18], line 17\u001b[0m, in \u001b[0;36mdownload_files_from_folder\u001b[1;34m(folder_url, dest_folder)\u001b[0m\n\u001b[0;32m     14\u001b[0m chromedriver_path \u001b[38;5;241m=\u001b[39m \u001b[38;5;124mr\u001b[39m\u001b[38;5;124m\"\u001b[39m\u001b[38;5;124mE:\u001b[39m\u001b[38;5;124m\\\u001b[39m\u001b[38;5;124mLeetCode\u001b[39m\u001b[38;5;124m\\\u001b[39m\u001b[38;5;124mPython & JavaScript\u001b[39m\u001b[38;5;124m\"\u001b[39m  \u001b[38;5;66;03m# Replace with the actual path to chromedriver\u001b[39;00m\n\u001b[0;32m     16\u001b[0m \u001b[38;5;66;03m# Initialize the Chrome browser\u001b[39;00m\n\u001b[1;32m---> 17\u001b[0m \u001b[38;5;28;01mwith\u001b[39;00m \u001b[43mwebdriver\u001b[49m\u001b[38;5;241;43m.\u001b[39;49m\u001b[43mChrome\u001b[49m\u001b[43m(\u001b[49m\u001b[43mexecutable_path\u001b[49m\u001b[38;5;241;43m=\u001b[39;49m\u001b[43mchromedriver_path\u001b[49m\u001b[43m,\u001b[49m\u001b[43m \u001b[49m\u001b[43moptions\u001b[49m\u001b[38;5;241;43m=\u001b[39;49m\u001b[43mchrome_options\u001b[49m\u001b[43m)\u001b[49m \u001b[38;5;28;01mas\u001b[39;00m driver:\n\u001b[0;32m     18\u001b[0m     driver\u001b[38;5;241m.\u001b[39mget(folder_url)\n\u001b[0;32m     20\u001b[0m     \u001b[38;5;66;03m# Get all links on the page\u001b[39;00m\n",
      "\u001b[1;31mTypeError\u001b[0m: WebDriver.__init__() got an unexpected keyword argument 'executable_path'"
     ]
    }
   ],
   "source": [
    "import os\n",
    "import requests\n",
    "from selenium import webdriver\n",
    "from selenium.webdriver.chrome.service import Service as ChromeService\n",
    "from selenium.webdriver.chrome.options import Options\n",
    "\n",
    "def download_files_from_folder(folder_url, dest_folder):\n",
    "    # Set up Chrome options\n",
    "    chrome_options = Options()\n",
    "    chrome_options.add_argument(\"--headless\")  # Run Chrome in headless mode (no GUI)\n",
    "    chrome_options.add_argument(\"--disable-gpu\")\n",
    "    \n",
    "    # Provide the path to your chromedriver executable\n",
    "    chromedriver_path = r\"E:\\LeetCode\\Python & JavaScript\"  # Replace with the actual path to chromedriver\n",
    "    \n",
    "    # Initialize the Chrome browser\n",
    "    with webdriver.Chrome(executable_path=chromedriver_path, options=chrome_options) as driver:\n",
    "        driver.get(folder_url)\n",
    "\n",
    "        # Get all links on the page\n",
    "        links = driver.find_elements_by_css_selector('a[href]')\n",
    "\n",
    "        # Download each file\n",
    "        for link in links:\n",
    "            file_url = link.get_attribute('href')\n",
    "            download_file(file_url, dest_folder)\n",
    "            print(f\"Downloaded: {file_url}\")\n",
    "\n",
    "def download_file(url, dest_folder):\n",
    "    # Extract the filename from the URL\n",
    "    file_name = os.path.join(dest_folder, os.path.basename(url))\n",
    "\n",
    "    # Download the file\n",
    "    with requests.get(url, stream=True) as response:\n",
    "        with open(file_name, 'wb') as file:\n",
    "            for chunk in response.iter_content(chunk_size=8192):\n",
    "                if chunk:\n",
    "                    file.write(chunk)\n",
    "\n",
    "# Specify the URL of the folder and the destination folder to save the files\n",
    "folder_url = \"https://kecpublication.com/wp-content/uploads/\"\n",
    "destination_folder = r\"E:\\LeetCode\\Python & JavaScript\"  # Use raw string or escape backslashes\n",
    "\n",
    "# Create the destination folder if it doesn't exist\n",
    "os.makedirs(destination_folder, exist_ok=True)\n",
    "\n",
    "# Download files from the folder URL using selenium\n",
    "download_files_from_folder(folder_url, destination_folder)\n"
   ]
  },
  {
   "cell_type": "code",
   "execution_count": 2,
   "metadata": {},
   "outputs": [
    {
     "name": "stdout",
     "output_type": "stream",
     "text": [
      "[\n",
      "  [ \u001b[33m1\u001b[39m, \u001b[33m2\u001b[39m, \u001b[33m3\u001b[39m ],\n",
      "  [ \u001b[33m1\u001b[39m, \u001b[33m3\u001b[39m, \u001b[33m2\u001b[39m ],\n",
      "  [ \u001b[33m2\u001b[39m, \u001b[33m1\u001b[39m, \u001b[33m3\u001b[39m ],\n",
      "  [ \u001b[33m2\u001b[39m, \u001b[33m3\u001b[39m, \u001b[33m1\u001b[39m ],\n",
      "  [ \u001b[33m3\u001b[39m, \u001b[33m2\u001b[39m, \u001b[33m1\u001b[39m ],\n",
      "  [ \u001b[33m3\u001b[39m, \u001b[33m1\u001b[39m, \u001b[33m2\u001b[39m ]\n",
      "]\n"
     ]
    }
   ],
   "source": [
    "%%script node\n",
    "\n",
    "function allPermutaiton(nums) {\n",
    "    const permutation = [];\n",
    "    function helper(nums, i) {\n",
    "        if(i === nums.length-1) {\n",
    "            permutation.push(nums.slice());\n",
    "            return;\n",
    "        }\n",
    "        for (let j=i; j<nums.length; j++) {\n",
    "            // swap i, j\n",
    "            [nums[i], nums[j]] = [nums[j], nums[i]];\n",
    "            // recursive\n",
    "            helper(nums, i+1);\n",
    "            // swap i,j\n",
    "            [nums[i], nums[j]] = [nums[j], nums[i]]\n",
    "        }\n",
    "    }\n",
    "    helper(nums, 0)\n",
    "    return permutation;\n",
    "}\n",
    "console.log(allPermutaiton([1,2,3]))"
   ]
  },
  {
   "cell_type": "code",
   "execution_count": 4,
   "metadata": {},
   "outputs": [
    {
     "name": "stdout",
     "output_type": "stream",
     "text": [
      "[[1, 2, 3], [1, 3, 2], [2, 1, 3], [2, 3, 1], [3, 2, 1], [3, 1, 2]]\n"
     ]
    }
   ],
   "source": [
    "def all_permutation(nums):\n",
    "    permutation = []\n",
    "\n",
    "    def helper(nums, i):\n",
    "        if i == len(nums) - 1:\n",
    "            permutation.append(nums[:])\n",
    "            return \n",
    "        for j in range(i, len(nums)):\n",
    "            nums[i], nums[j] = nums[j], nums[i]\n",
    "            helper(nums, i+1)\n",
    "            nums[i], nums[j] = nums[j], nums[i]\n",
    "    helper(nums, 0)\n",
    "    return permutation\n",
    "print(all_permutation([1,2,3]))"
   ]
  },
  {
   "cell_type": "code",
   "execution_count": 7,
   "metadata": {},
   "outputs": [
    {
     "name": "stdout",
     "output_type": "stream",
     "text": [
      "[[1, 2, 3], [1, 3, 2], [2, 1, 3], [2, 3, 1], [3, 2, 1], [3, 1, 2]]\n"
     ]
    }
   ],
   "source": [
    "def all_permutation(nums):\n",
    "    permutation = []\n",
    "    def helper(nums, i):\n",
    "        if i == len(nums):\n",
    "            permutation.append(nums[:])\n",
    "        for j in range(i, len(nums)):\n",
    "            nums[i], nums[j] = nums[j], nums[i]\n",
    "            helper(nums, i+1)\n",
    "            nums[i], nums[j] = nums[j], nums[i]\n",
    "    helper(nums, 0)\n",
    "    return permutation\n",
    "print(all_permutation([1,2,3]))"
   ]
  },
  {
   "cell_type": "markdown",
   "metadata": {},
   "source": [
    "```\n",
    "Question 2. Given an integer array of unique elements, return all possible subsets (the power set). The solution set must not contain duplicate subsets. Return the solution in any order.\n",
    "```"
   ]
  },
  {
   "cell_type": "code",
   "execution_count": 4,
   "metadata": {},
   "outputs": [
    {
     "name": "stdout",
     "output_type": "stream",
     "text": [
      "[\n",
      "  [],       [ \u001b[33m3\u001b[39m ],\n",
      "  [ \u001b[33m2\u001b[39m ],    [ \u001b[33m2\u001b[39m, \u001b[33m3\u001b[39m ],\n",
      "  [ \u001b[33m1\u001b[39m ],    [ \u001b[33m1\u001b[39m, \u001b[33m3\u001b[39m ],\n",
      "  [ \u001b[33m1\u001b[39m, \u001b[33m2\u001b[39m ], [ \u001b[33m1\u001b[39m, \u001b[33m2\u001b[39m, \u001b[33m3\u001b[39m ]\n",
      "]\n",
      "[ [] ]\n",
      "[ [], [ \u001b[33m9\u001b[39m ] ]\n"
     ]
    }
   ],
   "source": [
    "%%script node\n",
    "const powerSet = function(nums){\n",
    "    const output = [];\n",
    "    const helper = function(nums, i, subset) {\n",
    "        if(i===nums.length) {\n",
    "            output.push(subset.slice());\n",
    "            return;\n",
    "        }\n",
    "        //dont add\n",
    "        helper(nums, i+1, subset);\n",
    "        //add\n",
    "        subset.push(nums[i]);\n",
    "        helper(nums, i+1, subset)\n",
    "        subset.pop();\n",
    "    }\n",
    "    helper(nums, 0, []);\n",
    "    return output;\n",
    "}\n",
    "console.log(powerSet([1,2,3]))\n",
    "console.log(powerSet([]))\n",
    "console.log(powerSet([9]))"
   ]
  },
  {
   "cell_type": "code",
   "execution_count": 5,
   "metadata": {},
   "outputs": [],
   "source": [
    "def power_set(nums):\n",
    "    output = []\n",
    "    def helper(nums, i, subset):\n",
    "        if i == len(nums):\n",
    "            output.append(subset.copy())\n",
    "            return\n",
    "        helper(nums, i+1, subset)\n",
    "        subset.append(nums[i])\n",
    "        helper(nums, i+1, subset)\n",
    "        subset.pop()\n",
    "    helper(nums, 0, [])\n",
    "    return output"
   ]
  },
  {
   "cell_type": "code",
   "execution_count": null,
   "metadata": {},
   "outputs": [],
   "source": []
  }
 ],
 "metadata": {
  "kernelspec": {
   "display_name": "Python 3",
   "language": "python",
   "name": "python3"
  },
  "language_info": {
   "codemirror_mode": {
    "name": "ipython",
    "version": 3
   },
   "file_extension": ".py",
   "mimetype": "text/x-python",
   "name": "python",
   "nbconvert_exporter": "python",
   "pygments_lexer": "ipython3",
   "version": "3.11.4"
  }
 },
 "nbformat": 4,
 "nbformat_minor": 2
}
