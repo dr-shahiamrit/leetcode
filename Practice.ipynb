{
 "cells": [
  {
   "cell_type": "code",
   "execution_count": 5,
   "metadata": {},
   "outputs": [
    {
     "name": "stdout",
     "output_type": "stream",
     "text": [
      "[ \u001b[33m1\u001b[39m, \u001b[33m4\u001b[39m, \u001b[33m9\u001b[39m ]\n"
     ]
    }
   ],
   "source": [
    "%%script node\n",
    "function sortedArray(array) {\n",
    "    const newArray = new Array(array.length).fill(0);\n",
    "    for(let i = 0; i<array.length; i++) {\n",
    "        newArray[i] = Math.pow(array[i], 2);\n",
    "    }\n",
    "    newArray.sort(function(a, b) { return a - b});\n",
    "    return newArray;\n",
    "}\n",
    "console.log(sortedArray([1,3, 2]))"
   ]
  },
  {
   "cell_type": "code",
   "execution_count": 7,
   "metadata": {},
   "outputs": [
    {
     "data": {
      "text/plain": [
       "[1, 4, 9]"
      ]
     },
     "execution_count": 7,
     "metadata": {},
     "output_type": "execute_result"
    }
   ],
   "source": [
    "def sortedArray(array):\n",
    "    newArray = [0]*len(array)\n",
    "    for i in range(len(array)):\n",
    "        newArray[i] = array[i]**2\n",
    "    newArray.sort()\n",
    "    return newArray\n",
    "sortedArray([1,3,2])"
   ]
  },
  {
   "cell_type": "code",
   "execution_count": null,
   "metadata": {},
   "outputs": [],
   "source": []
  }
 ],
 "metadata": {
  "kernelspec": {
   "display_name": "Python 3",
   "language": "python",
   "name": "python3"
  },
  "language_info": {
   "codemirror_mode": {
    "name": "ipython",
    "version": 3
   },
   "file_extension": ".py",
   "mimetype": "text/x-python",
   "name": "python",
   "nbconvert_exporter": "python",
   "pygments_lexer": "ipython3",
   "version": "3.11.4"
  }
 },
 "nbformat": 4,
 "nbformat_minor": 2
}
