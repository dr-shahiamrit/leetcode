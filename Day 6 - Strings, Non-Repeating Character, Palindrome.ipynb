{
 "cells": [
  {
   "cell_type": "markdown",
   "metadata": {},
   "source": [
    "```\n",
    "Welcome to Day 6 of the DSA Coding Challenge:\n",
    "\n",
    "Todays Goals (Strings):\n",
    "\n",
    "-Strings Data Structure Crash Course\n",
    "\n",
    "Question 1:Non repeating character - You are given a string consisting of only lower case and upper-case English Alphabets and integers 0 to 9. Write a function that will take this string as Input and return the index of the first character that is non-repeating.\n",
    "\n",
    "Question 2:Palindrome-You are given a string. Write a function to check whether the string is a palindrome or not.\n",
    "\n",
    "All the best!\n",
    "\n",
    "```"
   ]
  },
  {
   "cell_type": "markdown",
   "metadata": {},
   "source": [
    "```\n",
    "You are given a string consisting of only lower case and upper-case English Alphabets and integer 0 to 9. Write a function that will take this string as input and return the index of the first character that is non-repeating\n",
    "```"
   ]
  },
  {
   "cell_type": "code",
   "execution_count": 4,
   "metadata": {},
   "outputs": [
    {
     "name": "stdout",
     "output_type": "stream",
     "text": [
      "\u001b[33m6\u001b[39m\n"
     ]
    }
   ],
   "source": [
    "%%script node\n",
    "function findNonRepeatingCharacter(string) {\n",
    "    let repeat;\n",
    "    for(let i = 0; i<string.length; i++) {\n",
    "        repeat = false;\n",
    "        for(let j = 0; j<string.length; j++) {\n",
    "            if(string[i] === string[j] && i!==j) {\n",
    "                repeat = true;\n",
    "            }\n",
    "        }\n",
    "        if(repeat === false){\n",
    "            return i;\n",
    "        }\n",
    "    }\n",
    "    return null;\n",
    "}\n",
    "a = 'aabbccd';\n",
    "console.log(findNonRepeatingCharacter(a))"
   ]
  },
  {
   "cell_type": "code",
   "execution_count": 1,
   "metadata": {},
   "outputs": [],
   "source": [
    "def non_repeating(str):\n",
    "    for i in range(len(str)):\n",
    "        repeat = False\n",
    "        for j in range(len(str)):\n",
    "            if i!=j and str[i] == str[j]:\n",
    "                repeat = True\n",
    "            if repeat == False:\n",
    "                return i\n",
    "        return None"
   ]
  },
  {
   "cell_type": "markdown",
   "metadata": {},
   "source": [
    "```\n",
    "Question: You are given a string. Write a function to check whether the string is a palindrome or not.\n",
    "\n",
    "```"
   ]
  },
  {
   "cell_type": "code",
   "execution_count": 3,
   "metadata": {},
   "outputs": [
    {
     "name": "stdout",
     "output_type": "stream",
     "text": [
      "\u001b[33mtrue\u001b[39m\n"
     ]
    }
   ],
   "source": [
    "%%script node\n",
    "function isPalindromeCheck(string){\n",
    "    let newStringtoCompare = '';\n",
    "    for(let i=string.length-1; i>=0; i--) {\n",
    "        newStringtoCompare += string[i];\n",
    "    }\n",
    "    if(newStringtoCompare === string) return true;\n",
    "    else return false;\n",
    "}\n",
    "a = 'abba';\n",
    "console.log(isPalindromeCheck(a))"
   ]
  },
  {
   "cell_type": "code",
   "execution_count": 5,
   "metadata": {},
   "outputs": [
    {
     "name": "stdout",
     "output_type": "stream",
     "text": [
      "True\n"
     ]
    }
   ],
   "source": [
    "def is_palindrome(str):\n",
    "    new_str = ''\n",
    "    for i in reversed(range(len(str))):\n",
    "        new_str += str[i]\n",
    "    if str == new_str:\n",
    "        return True\n",
    "    return False\n",
    "print(is_palindrome('abba'))"
   ]
  },
  {
   "cell_type": "code",
   "execution_count": null,
   "metadata": {},
   "outputs": [],
   "source": []
  }
 ],
 "metadata": {
  "kernelspec": {
   "display_name": "Python 3",
   "language": "python",
   "name": "python3"
  },
  "language_info": {
   "codemirror_mode": {
    "name": "ipython",
    "version": 3
   },
   "file_extension": ".py",
   "mimetype": "text/x-python",
   "name": "python",
   "nbconvert_exporter": "python",
   "pygments_lexer": "ipython3",
   "version": "3.11.4"
  }
 },
 "nbformat": 4,
 "nbformat_minor": 2
}
