{
 "cells": [
  {
   "cell_type": "markdown",
   "metadata": {},
   "source": [
    "###### Q.1 You are given an array of integers in which each subsequent value is not less than the previous value. Write a function that takes this array as an input and returns a new array with the squares of each number sorted in ascending order."
   ]
  },
  {
   "cell_type": "code",
   "execution_count": 3,
   "metadata": {},
   "outputs": [
    {
     "data": {
      "text/plain": [
       "[1, 9, 49]"
      ]
     },
     "execution_count": 3,
     "metadata": {},
     "output_type": "execute_result"
    }
   ],
   "source": [
    "def sorted_squared(array):\n",
    "    squared_values = list(sorted(map(lambda x: x**2, array)))\n",
    "    return squared_values\n",
    "sorted_squared([1,3,7])"
   ]
  },
  {
   "cell_type": "code",
   "execution_count": 19,
   "metadata": {},
   "outputs": [
    {
     "data": {
      "text/plain": [
       "[1, 9, 49]"
      ]
     },
     "execution_count": 19,
     "metadata": {},
     "output_type": "execute_result"
    }
   ],
   "source": [
    "def sorted_squared(array):\n",
    "    sorted_squared = [(lambda x: x**2) (x) for x in array]\n",
    "    return sorted_squared\n",
    "sorted_squared([1,3,7])"
   ]
  },
  {
   "cell_type": "code",
   "execution_count": 20,
   "metadata": {},
   "outputs": [
    {
     "data": {
      "text/plain": [
       "[1, 9, 49]"
      ]
     },
     "execution_count": 20,
     "metadata": {},
     "output_type": "execute_result"
    }
   ],
   "source": [
    "def sorted_squared(array):\n",
    "    double_arr = []\n",
    "    for i in array:\n",
    "        double_arr.append(i**2)\n",
    "    return sorted(double_arr)\n",
    "sorted_squared([1,3,7])"
   ]
  },
  {
   "cell_type": "code",
   "execution_count": 29,
   "metadata": {},
   "outputs": [
    {
     "name": "stdout",
     "output_type": "stream",
     "text": [
      "[ \u001b[33m1\u001b[39m, \u001b[33m4\u001b[39m, \u001b[33m9\u001b[39m ]\n",
      "[ \u001b[33m4\u001b[39m, \u001b[33m9\u001b[39m, \u001b[33m16\u001b[39m, \u001b[33m49\u001b[39m, \u001b[33m81\u001b[39m ]\n",
      "[]\n"
     ]
    }
   ],
   "source": [
    "%%script node\n",
    "function sorted_array(array) {\n",
    "    const newArray = new Array(array.length).fill(0);\n",
    "    for ( let i = 0; i<array.length; i++ ) {\n",
    "        newArray[i] = Math.pow(array[i], 2);\n",
    "    }\n",
    "    newArray.sort(function(a,b){\n",
    "        return a -b\n",
    "});\n",
    "return newArray;\n",
    "}\n",
    "a = [1,2,3]\n",
    "b = [-7, -2, 3, 4, 9]\n",
    "c = []\n",
    "console.log(sorted_array(a))\n",
    "console.log(sorted_array(b))\n",
    "console.log(sorted_array(c))"
   ]
  },
  {
   "cell_type": "code",
   "execution_count": 36,
   "metadata": {},
   "outputs": [
    {
     "data": {
      "text/plain": [
       "[1, 9, 49]"
      ]
     },
     "execution_count": 36,
     "metadata": {},
     "output_type": "execute_result"
    }
   ],
   "source": [
    "def sorted_array(array):\n",
    "    newArray = [0]*len(array)\n",
    "    for i in range(len(array)):\n",
    "        newArray[i] = array[i]**2\n",
    "    return newArray\n",
    "sorted_array([1,3,7])"
   ]
  },
  {
   "cell_type": "markdown",
   "metadata": {},
   "source": [
    "###### Q.2 An array is monotonic if it is either monotone increasing or monotone decreasing. An array is monotone incresing if all its elements from left to right are non-decreasing. An array is monotone decreasing if all its elements from left to right are non-increasing. Given an integer array returns true if the given array is monotonic, or false otherwise."
   ]
  },
  {
   "cell_type": "code",
   "execution_count": 4,
   "metadata": {},
   "outputs": [
    {
     "name": "stdout",
     "output_type": "stream",
     "text": [
      "\u001b[33mtrue\u001b[39m\n",
      "\u001b[33mtrue\u001b[39m\n",
      "\u001b[33mtrue\u001b[39m\n",
      "\u001b[33mtrue\u001b[39m\n",
      "\u001b[33mtrue\u001b[39m\n",
      "\u001b[33mfalse\u001b[39m\n",
      "\u001b[33mtrue\u001b[39m\n",
      "\u001b[33mtrue\u001b[39m\n"
     ]
    }
   ],
   "source": [
    "%%script node\n",
    "function checkMonotonic(array) {\n",
    "    const first = array[0];\n",
    "    const last = array[array.length - 1];\n",
    "\n",
    "    if(first === last) {\n",
    "        for(let i = 0; i<array.length - 1; i++) {\n",
    "            if(array[i+1] !== array[i]) return false;\n",
    "        }\n",
    "    }\n",
    "    else if(first < last) {\n",
    "        for(let i = 0; i<array.length - 1; i++) {\n",
    "            if(array[i+1] < array[i]) return false;\n",
    "        }\n",
    "    }\n",
    "    else {\n",
    "        for (let i = 0; i > array.length - 1; i++) {\n",
    "            if(array[i+1] > array[i]) return false\n",
    "        }\n",
    "    }\n",
    "    return true\n",
    "\n",
    "}\n",
    "console.log(checkMonotonic([1,2,3])) // non decresing\n",
    "console.log(checkMonotonic([2,2,2])) // equal\n",
    "console.log(checkMonotonic([2,2,2,10]))\n",
    "console.log(checkMonotonic([2,2,2,10,1])) //\n",
    "console.log(checkMonotonic([3,2,1])) \n",
    "console.log(checkMonotonic([3,2,1,10]))\n",
    "console.log(checkMonotonic([]))\n",
    "console.log(checkMonotonic([9]))"
   ]
  },
  {
   "cell_type": "code",
   "execution_count": 5,
   "metadata": {},
   "outputs": [
    {
     "name": "stdout",
     "output_type": "stream",
     "text": [
      "True\n",
      "True\n",
      "True\n",
      "False\n",
      "True\n",
      "False\n",
      "True\n",
      "True\n"
     ]
    }
   ],
   "source": [
    "def monotonic_or_not(array):\n",
    "    if not array:\n",
    "        return True\n",
    "    first = array[0]\n",
    "    last = array[len(array)-1]\n",
    "\n",
    "    if first == last:\n",
    "        for i in range(len(array)-1):\n",
    "            if array[i+1] != array[i]:\n",
    "                return False\n",
    "    if first < last:\n",
    "        for i in range(len(array)-1):\n",
    "            if array[i+1] < array[i]:\n",
    "                return False\n",
    "    else:\n",
    "        for i in range(len(array)-1):\n",
    "            if array[i+1] > array[i]:\n",
    "                return False\n",
    "    return True\n",
    "print(monotonic_or_not([1,2,3])) \n",
    "print(monotonic_or_not([2,2,2]))\n",
    "print(monotonic_or_not([2,2,2,10]))\n",
    "print(monotonic_or_not([2,2,2,10,1])) \n",
    "print(monotonic_or_not([3,2,1])) \n",
    "print(monotonic_or_not([3,2,1,10]))\n",
    "print(monotonic_or_not([]))\n",
    "print(monotonic_or_not([9]))"
   ]
  },
  {
   "cell_type": "code",
   "execution_count": 10,
   "metadata": {},
   "outputs": [
    {
     "name": "stdout",
     "output_type": "stream",
     "text": [
      "\u001b[33mtrue\u001b[39m\n",
      "\u001b[33mtrue\u001b[39m\n",
      "\u001b[33mtrue\u001b[39m\n",
      "\u001b[33mfalse\u001b[39m\n",
      "\u001b[33mtrue\u001b[39m\n",
      "\u001b[33mfalse\u001b[39m\n",
      "\u001b[33mtrue\u001b[39m\n",
      "\u001b[33mtrue\u001b[39m\n"
     ]
    }
   ],
   "source": [
    "%%script node\n",
    "function monotonic_or_not(array) {\n",
    "    const first = array[0]\n",
    "    const last = array[array.length - 1]\n",
    "\n",
    "    if (first === last) {\n",
    "        for (let i = 0; i < array.length - 1; i++) {\n",
    "            if (array[i+1] !== array[i]) return false;\n",
    "        }\n",
    "    }\n",
    "    else if (first < last ) {\n",
    "        for (let i = 0; i < array.length - 1; i++) {\n",
    "            if (array[i+1] < array[i]) return false\n",
    "        }\n",
    "    }\n",
    "    else {\n",
    "        for (let i = 0; i < array.length - 1; i++) {\n",
    "            if(array[i+1] > array[i]) return false\n",
    "        }\n",
    "    }\n",
    "    return true\n",
    "}\n",
    "console.log(monotonic_or_not([1,2,3])) \n",
    "console.log(monotonic_or_not([2,2,2]))\n",
    "console.log(monotonic_or_not([2,2,2,10]))\n",
    "console.log(monotonic_or_not([2,2,2,10,1])) \n",
    "console.log(monotonic_or_not([3,2,1])) \n",
    "console.log(monotonic_or_not([3,2,1,10]))\n",
    "console.log(monotonic_or_not([]))\n",
    "console.log(monotonic_or_not([9]))"
   ]
  },
  {
   "cell_type": "code",
   "execution_count": 11,
   "metadata": {},
   "outputs": [
    {
     "name": "stdout",
     "output_type": "stream",
     "text": [
      "False\n",
      "False\n",
      "False\n",
      "False\n",
      "False\n",
      "False\n",
      "True\n",
      "True\n"
     ]
    }
   ],
   "source": [
    "def monotonic_or_not(array):\n",
    "    if not array:\n",
    "        return True\n",
    "    first = array[0]\n",
    "    last = array[len(array) - 1]\n",
    "\n",
    "    if first == last:\n",
    "        for i in range(len(array) - 1):\n",
    "            array[i+1] != array[i]\n",
    "            return False\n",
    "    elif first < last:\n",
    "        for i in range(len(array) - 1):\n",
    "            array[i+1] < array[i]\n",
    "            return False\n",
    "    else:\n",
    "        for i in range(len(array) - 1):\n",
    "            array[i+1] > array[i]\n",
    "            return False\n",
    "    return True\n",
    "print(monotonic_or_not([1,2,3])) \n",
    "print(monotonic_or_not([2,2,2]))\n",
    "print(monotonic_or_not([2,2,2,10]))\n",
    "print(monotonic_or_not([2,2,2,10,1])) \n",
    "print(monotonic_or_not([3,2,1])) \n",
    "print(monotonic_or_not([3,2,1,10]))\n",
    "print(monotonic_or_not([]))\n",
    "print(monotonic_or_not([9]))"
   ]
  },
  {
   "cell_type": "code",
   "execution_count": null,
   "metadata": {},
   "outputs": [],
   "source": []
  }
 ],
 "metadata": {
  "kernelspec": {
   "display_name": "Python 3",
   "language": "python",
   "name": "python3"
  },
  "language_info": {
   "codemirror_mode": {
    "name": "ipython",
    "version": 3
   },
   "file_extension": ".py",
   "mimetype": "text/x-python",
   "name": "python",
   "nbconvert_exporter": "python",
   "pygments_lexer": "ipython3",
   "version": "3.11.4"
  }
 },
 "nbformat": 4,
 "nbformat_minor": 2
}
