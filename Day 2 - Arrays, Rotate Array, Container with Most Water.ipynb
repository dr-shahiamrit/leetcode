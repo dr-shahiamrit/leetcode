{
 "cells": [
  {
   "cell_type": "markdown",
   "metadata": {},
   "source": [
    "```\n",
    "Day 2 Goals\n",
    "Welcome to Day 2 of the DSA Coding Challenge.\n",
    "\n",
    "Today's Goals (Arrays):\n",
    "\n",
    "Question 1: Rotate Array - Given an array, rotate the array to the right by k steps, where k is non-negative.\n",
    "\n",
    "Question 2: Container with most Water - You are given an integer array height of length n. There are n vertical lines drawn such that the two endpoints of the ith line are (i, 0) and (i, height[i]). Find two lines that together with the x-axis form a container, such that the container contains the most water(depth is constant across containers). Return the area(that the 2 lines and the X axis make) of container which can store the max amount of water. Notice that you may not slant the container.\n",
    "\n",
    "Stay Consistent. All the best !\n",
    "```"
   ]
  },
  {
   "cell_type": "code",
   "execution_count": 1,
   "metadata": {},
   "outputs": [],
   "source": [
    "#Q1. Rotate Array - Given an array, rotate the array to the right by k steps, where k is non-negative\n"
   ]
  },
  {
   "cell_type": "code",
   "execution_count": 18,
   "metadata": {},
   "outputs": [
    {
     "name": "stdout",
     "output_type": "stream",
     "text": [
      "[ \u001b[33m1\u001b[39m, \u001b[33m2\u001b[39m, \u001b[33m3\u001b[39m, \u001b[33m4\u001b[39m, \u001b[33m5\u001b[39m, \u001b[33m6\u001b[39m ] and \u001b[33m6\u001b[39m\n",
      "\u001b[33m6\u001b[39m lenght\n",
      "[ \u001b[33m1\u001b[39m, \u001b[33m2\u001b[39m, \u001b[33m3\u001b[39m, \u001b[33m4\u001b[39m, \u001b[33m5\u001b[39m, \u001b[33m6\u001b[39m ]\n",
      "[ \u001b[33m1\u001b[39m, \u001b[33m2\u001b[39m, \u001b[33m3\u001b[39m, \u001b[33m4\u001b[39m, \u001b[33m5\u001b[39m, \u001b[33m6\u001b[39m ] and \u001b[33m2\u001b[39m\n",
      "\u001b[33m6\u001b[39m lenght\n",
      "[ \u001b[33m5\u001b[39m, \u001b[33m6\u001b[39m, \u001b[33m1\u001b[39m, \u001b[33m2\u001b[39m, \u001b[33m3\u001b[39m, \u001b[33m4\u001b[39m ]\n",
      "[] and \u001b[90mundefined\u001b[39m\n",
      "\u001b[33m0\u001b[39m lenght\n",
      "[]\n",
      "[ \u001b[33m1\u001b[39m, \u001b[33m2\u001b[39m, \u001b[33m3\u001b[39m ] and \u001b[33m2\u001b[39m\n",
      "\u001b[33m3\u001b[39m lenght\n",
      "[ \u001b[33m2\u001b[39m, \u001b[33m3\u001b[39m, \u001b[33m1\u001b[39m ]\n",
      "[ \u001b[33m1\u001b[39m ] and \u001b[90mundefined\u001b[39m\n",
      "\u001b[33m1\u001b[39m lenght\n",
      "[ \u001b[33m1\u001b[39m ]\n"
     ]
    }
   ],
   "source": [
    "%%script node\n",
    "const reverse = function(nums, start, end) {\n",
    "    while(start < end) {\n",
    "        [nums[start], nums[end]] = [nums[end], nums[start]]; // ES6 syntax swap value\n",
    "        start++;\n",
    "        end--;\n",
    "    }\n",
    "}\n",
    "const rotate = function(nums,k) {\n",
    "    console.log(nums, \"and\", k)\n",
    "    console.log(nums.length, \"lenght\")\n",
    "    k = k%nums.length; // k = 102, length=5, 2 rotation\n",
    "    //nums.reverse();\n",
    "    reverse(nums, 0, nums.length-1);\n",
    "    // reverse two parts, start=0, end=k-1\n",
    "    reverse(nums, 0, k-1);\n",
    "    // start = k, end = length-1\n",
    "    reverse(nums, k, nums.length-1)\n",
    "    return nums;\n",
    "\n",
    "}\n",
    "\n",
    "console.log(rotate([1,2,3,4,5,6], 6));\n",
    "console.log(rotate([1,2,3,4,5,6], 2))\n",
    "console.log(rotate([]));\n",
    "console.log(rotate([1,2,3],2))\n",
    "console.log(rotate([1]))\n",
    "// Operate O(n) Space and Time Complexity still O(n)"
   ]
  },
  {
   "cell_type": "code",
   "execution_count": 2,
   "metadata": {},
   "outputs": [
    {
     "name": "stdout",
     "output_type": "stream",
     "text": [
      "[ \u001b[33m1\u001b[39m, \u001b[33m2\u001b[39m, \u001b[33m3\u001b[39m, \u001b[33m4\u001b[39m, \u001b[33m5\u001b[39m, \u001b[33m6\u001b[39m ]\n",
      "[ \u001b[33m5\u001b[39m, \u001b[33m6\u001b[39m, \u001b[33m1\u001b[39m, \u001b[33m2\u001b[39m, \u001b[33m3\u001b[39m, \u001b[33m4\u001b[39m ]\n",
      "[]\n",
      "[ \u001b[33m2\u001b[39m, \u001b[33m3\u001b[39m, \u001b[33m1\u001b[39m ]\n"
     ]
    },
    {
     "name": "stdout",
     "output_type": "stream",
     "text": [
      "[ \u001b[33m1\u001b[39m ]\n"
     ]
    }
   ],
   "source": [
    "%%script node\n",
    "const reverse = function(nums, start, end) {\n",
    "    while (start < end) {\n",
    "    [nums[start], nums[end]] = [nums[end], nums[start]];\n",
    "    start++;\n",
    "    end--;\n",
    "    }\n",
    "}\n",
    "\n",
    "const rotate = function(nums, k) {\n",
    "    k = k % nums.length;\n",
    "\n",
    "    reverse(nums, 0, nums.length-1); // reverse entire array\n",
    "    reverse(nums, 0, k-1); // reverse the first 'k' elements\n",
    "    reverse(nums, k, nums.length-1) // reverse the remaining element \n",
    "    return nums; // return the rotated array\n",
    "}\n",
    "console.log(rotate([1,2,3,4,5,6], 6));\n",
    "console.log(rotate([1,2,3,4,5,6], 2));\n",
    "console.log(rotate([]));\n",
    "console.log(rotate([1,2,3],2));\n",
    "console.log(rotate([1]));"
   ]
  },
  {
   "cell_type": "code",
   "execution_count": 2,
   "metadata": {},
   "outputs": [
    {
     "name": "stdout",
     "output_type": "stream",
     "text": [
      "[ \u001b[33m1\u001b[39m, \u001b[33m2\u001b[39m, \u001b[33m3\u001b[39m, \u001b[33m4\u001b[39m, \u001b[33m5\u001b[39m, \u001b[33m6\u001b[39m ]\n",
      "[ \u001b[33m5\u001b[39m, \u001b[33m6\u001b[39m, \u001b[33m1\u001b[39m, \u001b[33m2\u001b[39m, \u001b[33m3\u001b[39m, \u001b[33m4\u001b[39m ]\n",
      "[]\n",
      "[ \u001b[33m2\u001b[39m, \u001b[33m3\u001b[39m, \u001b[33m1\u001b[39m ]\n",
      "[ \u001b[33m1\u001b[39m ]\n"
     ]
    }
   ],
   "source": [
    "%%script node\n",
    "const reverse = function(nums, start, end) {\n",
    "    while(start < end ){\n",
    "        [nums[start], nums[end]] = [nums[end], nums[start]]\n",
    "        start++;\n",
    "        end--;\n",
    "    }\n",
    "}\n",
    "\n",
    "const rotate = function(nums, k) {\n",
    "    k = k % nums.length;\n",
    "\n",
    "    // reverse entire array\n",
    "    reverse(nums, 0, nums.length-1);\n",
    "    // reverse the first k element\n",
    "    reverse(nums, 0, k-1);\n",
    "    // reverse the remaining array\n",
    "    reverse(nums, k, nums.length-1);\n",
    "    return nums;\n",
    "}\n",
    "console.log(rotate([1,2,3,4,5,6], 6));\n",
    "console.log(rotate([1,2,3,4,5,6], 2));\n",
    "console.log(rotate([]));\n",
    "console.log(rotate([1,2,3],2));\n",
    "console.log(rotate([1]));"
   ]
  },
  {
   "cell_type": "code",
   "execution_count": 12,
   "metadata": {},
   "outputs": [
    {
     "name": "stdout",
     "output_type": "stream",
     "text": [
      "[ \u001b[33m1\u001b[39m, \u001b[33m2\u001b[39m, \u001b[33m3\u001b[39m, \u001b[33m4\u001b[39m, \u001b[33m5\u001b[39m, \u001b[33m6\u001b[39m ]\n",
      "[ \u001b[33m5\u001b[39m, \u001b[33m6\u001b[39m, \u001b[33m1\u001b[39m, \u001b[33m2\u001b[39m, \u001b[33m3\u001b[39m, \u001b[33m4\u001b[39m ]\n",
      "[]\n",
      "[ \u001b[33m2\u001b[39m, \u001b[33m3\u001b[39m, \u001b[33m1\u001b[39m ]\n",
      "[ \u001b[33m1\u001b[39m ]\n"
     ]
    }
   ],
   "source": [
    "%%script node\n",
    "const reverse = function (nums, start, end) {\n",
    "    while (start < end) {\n",
    "        [nums[start], nums[end]] = [nums[end], nums[start]];\n",
    "        start ++;\n",
    "        end --;\n",
    "    }\n",
    "}\n",
    "\n",
    "const rotate = function (nums, k) {\n",
    "    k = k%nums.length;\n",
    "\n",
    "    reverse(nums, 0, nums.length-1);\n",
    "    reverse(nums, 0, k-1);\n",
    "    reverse(nums, k, nums.length-1)\n",
    "    return nums;\n",
    "}\n",
    "console.log(rotate([1,2,3,4,5,6], 6));\n",
    "console.log(rotate([1,2,3,4,5,6], 2));\n",
    "console.log(rotate([]));\n",
    "console.log(rotate([1,2,3],2));\n",
    "console.log(rotate([1]));"
   ]
  },
  {
   "cell_type": "code",
   "execution_count": 15,
   "metadata": {},
   "outputs": [
    {
     "name": "stdout",
     "output_type": "stream",
     "text": [
      "[4, 5, 6, 1, 2, 3]\n"
     ]
    }
   ],
   "source": [
    "def reverse(array, start, end):\n",
    "    while(start < end):\n",
    "        array[start], array[end] = array[end], array[start]\n",
    "        start += 1\n",
    "        end -= 1\n",
    "\n",
    "def rotate_array(array, k):\n",
    "    k = k%len(array)\n",
    "    reverse(array, 0, len(array)-1)\n",
    "    reverse(array, 0, k-1)\n",
    "    reverse(array, k, len(array)-1)\n",
    "    return array\n",
    "print(rotate_array([1,2,3,4,5,6], 3))"
   ]
  },
  {
   "cell_type": "code",
   "execution_count": 21,
   "metadata": {},
   "outputs": [
    {
     "name": "stdout",
     "output_type": "stream",
     "text": [
      "[5, 6, 1, 2, 3, 4]\n"
     ]
    }
   ],
   "source": [
    "def reverse(array, start, end):\n",
    "    while start < end:\n",
    "        array[start], array[end] = array[end], array[start]\n",
    "        start += 1\n",
    "        end -= 1\n",
    "\n",
    "\n",
    "def roatate(array, k):\n",
    "    k = k%len(array)\n",
    "    reverse(array, 0, len(array)-1)\n",
    "    reverse(array, 0, k-1)\n",
    "    reverse(array, k, len(array)-1)\n",
    "    return array\n",
    "print(rotate_array([1,2,3,4,5,6], 2))"
   ]
  },
  {
   "cell_type": "markdown",
   "metadata": {},
   "source": [
    "\n",
    "```\n",
    "Q.2 You are given an integer array height of length n. There are n vertical lines drawn such that the two endpoints of the ith line are (i, 0) and (i, height[i]).\n",
    "Find two lines that together with the x-axis from a container, such that the container contains the most water (depth is constant across containers). Return the area(that the 2 lines and the X axis make) of container which can store the max amount of water. Notice that you may not slant the container.\n",
    "\n",
    "```"
   ]
  },
  {
   "cell_type": "code",
   "execution_count": 5,
   "metadata": {},
   "outputs": [
    {
     "name": "stdout",
     "output_type": "stream",
     "text": [
      "\u001b[33m21\u001b[39m\n",
      "\u001b[33m36\u001b[39m\n"
     ]
    }
   ],
   "source": [
    "%%script node\n",
    "\n",
    "const maxAreaBruteForce = function (array) {\n",
    "    // [3,7,5,6,8,4]\n",
    "    let area = 0;\n",
    "    for (let i=0; i<array.length-1; i++) {\n",
    "        for(let j=i+1; j<array.length; j++) {\n",
    "            const height = Math.min(array[i], array[j]);\n",
    "            const width = (j-i);\n",
    "            area = Math.max(area, height*width);\n",
    "        }\n",
    "    }\n",
    "\n",
    "\n",
    "    return area;\n",
    "}\n",
    "\n",
    "console.log(maxAreaBruteForce([3,7,5,6,8,4]))\n",
    "console.log(maxAreaBruteForce([9,1,2,3,10]))"
   ]
  },
  {
   "cell_type": "code",
   "execution_count": 12,
   "metadata": {},
   "outputs": [
    {
     "name": "stdout",
     "output_type": "stream",
     "text": [
      "\u001b[33m21\u001b[39m\n",
      "\u001b[33m36\u001b[39m\n"
     ]
    }
   ],
   "source": [
    "%%script node\n",
    "const maxAreaBruteForce = function (array) {\n",
    "    let area = 0;\n",
    "    for (let i =0; i<array.length-1; i++) {\n",
    "        for (let j=i+1; j<array.length; j++) {\n",
    "            const height = Math.min(array[i], array[j]);\n",
    "            const width = (j-i);\n",
    "            area = Math.max(area, height*width);\n",
    "        }\n",
    "    }\n",
    "    return area;\n",
    "}\n",
    "console.log(maxAreaBruteForce([3,7,5,6,8,4]))\n",
    "console.log(maxAreaBruteForce([9,1,2,3,10]))"
   ]
  },
  {
   "cell_type": "code",
   "execution_count": 24,
   "metadata": {},
   "outputs": [
    {
     "name": "stdout",
     "output_type": "stream",
     "text": [
      "21\n"
     ]
    }
   ],
   "source": [
    "def maxAreaBruteForce(array):\n",
    "    area = 0\n",
    "    for i in range(len(array)-1):\n",
    "        for j in range(i+1, len(array)):\n",
    "            height = min(array[i], array[j])\n",
    "            width = (j-i)\n",
    "            area = max(area, height*width)\n",
    "    return area\n",
    "print(maxAreaBruteForce([3,7,5,6,8,4]))\n",
    "\n",
    "\n"
   ]
  },
  {
   "cell_type": "code",
   "execution_count": null,
   "metadata": {},
   "outputs": [],
   "source": []
  },
  {
   "cell_type": "code",
   "execution_count": null,
   "metadata": {},
   "outputs": [],
   "source": []
  }
 ],
 "metadata": {
  "kernelspec": {
   "display_name": "Python 3",
   "language": "python",
   "name": "python3"
  },
  "language_info": {
   "codemirror_mode": {
    "name": "ipython",
    "version": 3
   },
   "file_extension": ".py",
   "mimetype": "text/x-python",
   "name": "python",
   "nbconvert_exporter": "python",
   "pygments_lexer": "ipython3",
   "version": "3.11.4"
  }
 },
 "nbformat": 4,
 "nbformat_minor": 2
}
