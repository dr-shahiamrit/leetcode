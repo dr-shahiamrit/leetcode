{
 "cells": [
  {
   "cell_type": "markdown",
   "metadata": {},
   "source": [
    "```\n",
    "Day 4 Goals\n",
    "Welcome to Day 4 of the DSA Coding Challenge:\n",
    "\n",
    "Todays Goals (Recursion):\n",
    "\n",
    "Question 1: Fibonacci - In the Fibonacci sequence, each subsequent term is obtained by adding the preceding 2 terms. This is true for all the numbers except the first 2 numbers of the Fibonacci series as they do not have 2 preceding numbers. The first 2 terms in the Fibonacci series is 0 and 1. F(n) = F(n-1)+F(n-2) for n>1. Write a function that finds F(n) given n where n is an integer greater than equal to 0. For the first term n = 0.\n",
    "\n",
    "Question 2: Power Sum - Let’s define a peculiar type of array in which each element is either an integer or another peculiar array. Assume that a peculiar array is never empty. Write a function that will take a peculiar array as its input and find the sum of its elements. If an array is an element in the peculiar array you have to convert it to it’s equivalent value so that you can sum it with the other elements. Equivalent value of an array is the sum of its elements raised to the number which represents how far nested it is. For e.g. [2,3[4,1,2]] = 2+3+ (4+1+2)^2\n",
    "\n",
    "[1,2,[7,[3,4],2]] = 1 + 2 +( 7+(3+4)^3+2)^2\n",
    "\n",
    "All the best!\n",
    "```"
   ]
  },
  {
   "cell_type": "code",
   "execution_count": 1,
   "metadata": {},
   "outputs": [],
   "source": [
    "# Q.1 In the fibonacci sequence, each subsequent term is obtained by adding the preceding 2 terms, This is true for all the numbers except\n",
    "# the first 2 numbers of the fibonacci series as they do not have 2 preceding numbers. The first 2 terms in the fibonacci series is 0 and 1. \n",
    "# F(n) = F(n-1)+F(n-2) for n>1. Write a function that finds F(n) given n where n is an integer greater than equal to 0. For the first term n = 0. "
   ]
  },
  {
   "cell_type": "code",
   "execution_count": 4,
   "metadata": {},
   "outputs": [
    {
     "name": "stdout",
     "output_type": "stream",
     "text": [
      "\u001b[33m3\u001b[39m\n",
      "\u001b[33m21\u001b[39m\n",
      "\u001b[33m0\u001b[39m\n",
      "\u001b[33m1\u001b[39m\n"
     ]
    }
   ],
   "source": [
    "%%script node\n",
    "function fibonacci(n) {\n",
    "    if(n <= 1) return n;\n",
    "    else return fibonacci(n-1) + fibonacci(n-2);\n",
    "}\n",
    "console.log(fibonacci(4))\n",
    "console.log(fibonacci(8))\n",
    "console.log(fibonacci(0))\n",
    "console.log(fibonacci(1)) "
   ]
  },
  {
   "cell_type": "code",
   "execution_count": 5,
   "metadata": {},
   "outputs": [
    {
     "data": {
      "text/plain": [
       "3"
      ]
     },
     "execution_count": 5,
     "metadata": {},
     "output_type": "execute_result"
    }
   ],
   "source": [
    "def fibonacci(n):\n",
    "    if n<=1: return n\n",
    "    else: return fibonacci(n-1) + fibonacci(n-2)\n",
    "fibonacci(4)"
   ]
  },
  {
   "cell_type": "markdown",
   "metadata": {},
   "source": [
    "```\n",
    "Q.2 Let's define a peculiar type of array in which each element in either an integer or another perculiar array. Assume that a perculiar array is never empty. Write a function that will take a perculiar arrays as its input and find the sum of its elments. If an array is an element in the peculiar array you have to convert it to it's equivalent values so that you can sum it with the other elements. Equivalent value of an array is the sum of its elements raised to the number which represents how far nested it is. For e.g [2,3[4,1,2]] = 2+3(4+1+2)^2 [1,2[7,[3,4],2]] = 1+2+(7+(3+4)^3+2)^2\n",
    "\n",
    "```"
   ]
  },
  {
   "cell_type": "code",
   "execution_count": 12,
   "metadata": {},
   "outputs": [
    {
     "name": "stdout",
     "output_type": "stream",
     "text": [
      "\u001b[33m116\u001b[39m\n"
     ]
    }
   ],
   "source": [
    "%%script node\n",
    "function powerSum(array, power=1) {\n",
    "    let sum = 0;\n",
    "    for(const element of array) {\n",
    "        if(Array.isArray(element)) {\n",
    "            sum += powerSum(element, power+1);\n",
    "        } else {\n",
    "            sum += element;\n",
    "        } \n",
    "    }\n",
    "\n",
    "    return Math.pow(sum, power);\n",
    "}\n",
    "array = [1,2, [3,4], [[2]]];\n",
    "console.log(powerSum(array))\n"
   ]
  },
  {
   "cell_type": "code",
   "execution_count": 18,
   "metadata": {},
   "outputs": [
    {
     "name": "stdout",
     "output_type": "stream",
     "text": [
      "\u001b[33m116\u001b[39m\n"
     ]
    }
   ],
   "source": [
    "%%script node\n",
    "function powerSum(array, power=1) {\n",
    "    let sum = 0;\n",
    "    for (const element of array) {\n",
    "        if(Array.isArray(element)) {\n",
    "        sum += powerSum(element, power+1)\n",
    "        } else {\n",
    "            sum += element;\n",
    "        }\n",
    "    }\n",
    "    return Math.pow(sum, power)\n",
    "}\n",
    "array = [1,2, [3,4], [[2]]];\n",
    "console.log(powerSum(array))"
   ]
  },
  {
   "cell_type": "code",
   "execution_count": 22,
   "metadata": {},
   "outputs": [
    {
     "data": {
      "text/plain": [
       "116"
      ]
     },
     "execution_count": 22,
     "metadata": {},
     "output_type": "execute_result"
    }
   ],
   "source": [
    "def powerSum(array, power=1):\n",
    "    sum = 0\n",
    "    for i in array:\n",
    "        if type(i) == list:\n",
    "            sum += powerSum(i, power+1)\n",
    "        else:\n",
    "            sum += i\n",
    "    return sum ** power\n",
    "array = [1,2, [3,4], [[2]]]\n",
    "powerSum(array)"
   ]
  },
  {
   "cell_type": "code",
   "execution_count": null,
   "metadata": {},
   "outputs": [],
   "source": []
  }
 ],
 "metadata": {
  "kernelspec": {
   "display_name": "Python 3",
   "language": "python",
   "name": "python3"
  },
  "language_info": {
   "codemirror_mode": {
    "name": "ipython",
    "version": 3
   },
   "file_extension": ".py",
   "mimetype": "text/x-python",
   "name": "python",
   "nbconvert_exporter": "python",
   "pygments_lexer": "ipython3",
   "version": "3.11.4"
  }
 },
 "nbformat": 4,
 "nbformat_minor": 2
}
